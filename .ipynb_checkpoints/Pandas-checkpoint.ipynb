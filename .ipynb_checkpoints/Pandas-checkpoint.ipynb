{
 "cells": [
  {
   "cell_type": "code",
   "execution_count": null,
   "metadata": {},
   "outputs": [],
   "source": [
    "# ukázka kodu práce s Pandas, test\n",
    "import pandas as pd #nacteni knihoven\n",
    "import numpy as np"
   ]
  },
  {
   "cell_type": "markdown",
   "metadata": {},
   "source": [
    "### 1. Načtení souboru, vynechání 1. sloupce"
   ]
  },
  {
   "cell_type": "code",
   "execution_count": null,
   "metadata": {},
   "outputs": [],
   "source": [
    "# Načíst data, a vynechat první sloupec:\n",
    "\n",
    "parkovani = pd.read_csv('parkovani.csv', parse_dates = ['zahajeni_parkovani', 'ukonceni_parkovani'])\n",
    "parkovani = parkovani.drop(parkovani.columns[0], axis = 1)\n",
    "\n",
    "#parkovani.head()\n"
   ]
  },
  {
   "cell_type": "markdown",
   "metadata": {},
   "source": [
    "### 2. Počet záznamů"
   ]
  },
  {
   "cell_type": "code",
   "execution_count": null,
   "metadata": {},
   "outputs": [],
   "source": [
    "celkem_zaznamu = parkovani.shape[0]\n",
    "print(f'V souboru je celkem {celkem_zaznamu} záznamů.')"
   ]
  },
  {
   "cell_type": "code",
   "execution_count": null,
   "metadata": {},
   "outputs": [],
   "source": [
    "# Odstranění řádků, kde není zapsán čas, jinak nevychází správně průměry\n",
    "parkovani = parkovani.dropna()"
   ]
  },
  {
   "cell_type": "code",
   "execution_count": null,
   "metadata": {},
   "outputs": [],
   "source": [
    "celkem_zaznamu = parkovani.shape[0]\n",
    "print(f'V souboru je celkem {celkem_zaznamu} záznamů, ve kterých nejsou prázdné řádky.')"
   ]
  },
  {
   "cell_type": "markdown",
   "metadata": {},
   "source": [
    "### 3. Přidání sloupce čas, průměrná doba parkování v jednotlivých částech"
   ]
  },
  {
   "cell_type": "code",
   "execution_count": null,
   "metadata": {},
   "outputs": [],
   "source": [
    "zacatek = parkovani.zahajeni_parkovani\n",
    "konec = parkovani.ukonceni_parkovani\n",
    "delka = konec - zacatek\n",
    "parkovani.insert(0, 'čas', delka)\n",
    "\n",
    "parkovani['nove_zony'] = parkovani['parkovaci_zona'].str.split('-').str[0]\n",
    "\n",
    "parkovani['čas'] = parkovani['čas'].values.astype('int64')\n",
    "\n",
    "sloupce = ['nove_zony', 'čas']\n",
    "prumer = parkovani[sloupce].groupby('nove_zony').mean()\n"
   ]
  },
  {
   "cell_type": "code",
   "execution_count": null,
   "metadata": {},
   "outputs": [],
   "source": [
    "prumer['čas'] = prumer['čas'].astype('datetime64[ns]') \n",
    "prumer['čas2'] = prumer['čas'].dt.time\n",
    "for i in prumer.index:\n",
    "    print(f'Průměrná doba parkování v části {i} je {prumer.čas2[i]}.')"
   ]
  },
  {
   "cell_type": "markdown",
   "metadata": {},
   "source": [
    "### 4) Kolik se vybralo v jednotlivých částí celkem"
   ]
  },
  {
   "cell_type": "code",
   "execution_count": null,
   "metadata": {},
   "outputs": [],
   "source": [
    "filtr = parkovani['kanal'] == 'PARKMACHINE'\n",
    "sloupce = ['nove_zony', 'cena']\n",
    "celkem_park = parkovani[filtr][sloupce].groupby('nove_zony').sum()"
   ]
  },
  {
   "cell_type": "code",
   "execution_count": null,
   "metadata": {},
   "outputs": [],
   "source": [
    "filtr = parkovani['kanal'] == 'VPH'\n",
    "sloupce = ['nove_zony', 'cena']\n",
    "celkem_vph = parkovani[filtr][sloupce].groupby('nove_zony').sum()"
   ]
  },
  {
   "cell_type": "code",
   "execution_count": null,
   "metadata": {},
   "outputs": [],
   "source": [
    "vysledek = celkem_vph"
   ]
  },
  {
   "cell_type": "code",
   "execution_count": null,
   "metadata": {},
   "outputs": [],
   "source": [
    "vysledek['cena_parkmachine'] = celkem_park['cena']\n",
    "vysledek['cena_vph'] = celkem_vph['cena']\n",
    "del vysledek['cena']\n",
    "#vysledek.rename(index = {'nove_zony': 'parkovaci_zony'})\n",
    "vysledek = vysledek.reset_index()\n",
    "vysledek = vysledek.rename(columns = {'nove_zony': 'parkovaci_zony'})"
   ]
  },
  {
   "cell_type": "code",
   "execution_count": null,
   "metadata": {
    "scrolled": true
   },
   "outputs": [],
   "source": [
    "vysledek.to_csv('output/vybrano.csv', index = False)"
   ]
  }
 ],
 "metadata": {
  "kernelspec": {
   "display_name": "Python 3",
   "language": "python",
   "name": "python3"
  },
  "language_info": {
   "codemirror_mode": {
    "name": "ipython",
    "version": 3
   },
   "file_extension": ".py",
   "mimetype": "text/x-python",
   "name": "python",
   "nbconvert_exporter": "python",
   "pygments_lexer": "ipython3",
   "version": "3.8.5"
  }
 },
 "nbformat": 4,
 "nbformat_minor": 4
}
