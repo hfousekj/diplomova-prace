{
 "cells": [
  {
   "cell_type": "code",
   "execution_count": 1,
   "metadata": {},
   "outputs": [],
   "source": [
    "import pandas as pd\n",
    "import numpy as np"
   ]
  },
  {
   "cell_type": "markdown",
   "metadata": {},
   "source": [
    "### 1. Načtení souboru, vynechání 1. sloupce"
   ]
  },
  {
   "cell_type": "code",
   "execution_count": 2,
   "metadata": {},
   "outputs": [],
   "source": [
    "# Načíst data, a vynechat první sloupec:\n",
    "\n",
    "parkovani = pd.read_csv('parkovani.csv', parse_dates = ['zahajeni_parkovani', 'ukonceni_parkovani'])\n",
    "parkovani = parkovani.drop(parkovani.columns[0], axis = 1)\n",
    "\n",
    "#parkovani.head()\n"
   ]
  },
  {
   "cell_type": "markdown",
   "metadata": {},
   "source": [
    "### 2. Počet záznamů"
   ]
  },
  {
   "cell_type": "code",
   "execution_count": 3,
   "metadata": {},
   "outputs": [
    {
     "name": "stdout",
     "output_type": "stream",
     "text": [
      "V souboru je celkem 62033 záznamů.\n"
     ]
    }
   ],
   "source": [
    "celkem_zaznamu = parkovani.shape[0]\n",
    "print(f'V souboru je celkem {celkem_zaznamu} záznamů.')"
   ]
  },
  {
   "cell_type": "code",
   "execution_count": 4,
   "metadata": {},
   "outputs": [],
   "source": [
    "# Odstranění řádků, kde není zapsán čas, jinak nevychází správně průměry\n",
    "parkovani = parkovani.dropna()"
   ]
  },
  {
   "cell_type": "code",
   "execution_count": 5,
   "metadata": {},
   "outputs": [
    {
     "name": "stdout",
     "output_type": "stream",
     "text": [
      "V souboru je celkem 59699 záznamů, ve kterých nejsou prázdné řádky.\n"
     ]
    }
   ],
   "source": [
    "celkem_zaznamu = parkovani.shape[0]\n",
    "print(f'V souboru je celkem {celkem_zaznamu} záznamů, ve kterých nejsou prázdné řádky.')"
   ]
  },
  {
   "cell_type": "markdown",
   "metadata": {},
   "source": [
    "### 3. Přidání sloupce čas, průměrná doba parkování v jednotlivých částech"
   ]
  },
  {
   "cell_type": "code",
   "execution_count": 6,
   "metadata": {},
   "outputs": [],
   "source": [
    "zacatek = parkovani.zahajeni_parkovani\n",
    "konec = parkovani.ukonceni_parkovani\n",
    "delka = konec - zacatek\n",
    "parkovani.insert(0, 'čas', delka)\n",
    "\n",
    "parkovani['nove_zony'] = parkovani['parkovaci_zona'].str.split('-').str[0]\n",
    "\n",
    "parkovani['čas'] = parkovani['čas'].values.astype('int64')\n",
    "\n",
    "sloupce = ['nove_zony', 'čas']\n",
    "prumer = parkovani[sloupce].groupby('nove_zony').mean()\n"
   ]
  },
  {
   "cell_type": "code",
   "execution_count": 7,
   "metadata": {},
   "outputs": [
    {
     "name": "stdout",
     "output_type": "stream",
     "text": [
      "Průměrná doba parkování v části P1 je 02:03:33.831890.\n",
      "Průměrná doba parkování v části P13 je 01:45:24.081784.\n",
      "Průměrná doba parkování v části P16 je 02:10:32.442028.\n",
      "Průměrná doba parkování v části P2 je 04:20:13.011624.\n",
      "Průměrná doba parkování v části P22 je 02:04:32.167346.\n",
      "Průměrná doba parkování v části P3 je 02:56:22.286726.\n",
      "Průměrná doba parkování v části P4 je 05:40:30.361272.\n",
      "Průměrná doba parkování v části P5 je 05:35:47.258156.\n",
      "Průměrná doba parkování v části P6 je 04:05:24.969090.\n",
      "Průměrná doba parkování v části P7 je 02:31:33.922587.\n",
      "Průměrná doba parkování v části P8 je 04:13:54.198342.\n"
     ]
    }
   ],
   "source": [
    "prumer['čas'] = prumer['čas'].astype('datetime64[ns]') \n",
    "prumer['čas2'] = prumer['čas'].dt.time\n",
    "for i in prumer.index:\n",
    "    print(f'Průměrná doba parkování v části {i} je {prumer.čas2[i]}.')"
   ]
  },
  {
   "cell_type": "markdown",
   "metadata": {},
   "source": [
    "### 4) Kolik se vybralo v jednotlivých částí celkem"
   ]
  },
  {
   "cell_type": "code",
   "execution_count": 8,
   "metadata": {},
   "outputs": [],
   "source": [
    "filtr = parkovani['kanal'] == 'PARKMACHINE'\n",
    "sloupce = ['nove_zony', 'cena']\n",
    "celkem_park = parkovani[filtr][sloupce].groupby('nove_zony').sum()"
   ]
  },
  {
   "cell_type": "code",
   "execution_count": 9,
   "metadata": {},
   "outputs": [],
   "source": [
    "filtr = parkovani['kanal'] == 'VPH'\n",
    "sloupce = ['nove_zony', 'cena']\n",
    "celkem_vph = parkovani[filtr][sloupce].groupby('nove_zony').sum()"
   ]
  },
  {
   "cell_type": "code",
   "execution_count": 10,
   "metadata": {},
   "outputs": [],
   "source": [
    "vysledek = celkem_vph"
   ]
  },
  {
   "cell_type": "code",
   "execution_count": 11,
   "metadata": {},
   "outputs": [],
   "source": [
    "vysledek['cena_parkmachine'] = celkem_park['cena']\n",
    "vysledek['cena_vph'] = celkem_vph['cena']\n",
    "del vysledek['cena']\n",
    "#vysledek.rename(index = {'nove_zony': 'parkovaci_zony'})\n",
    "vysledek = vysledek.reset_index()\n",
    "vysledek = vysledek.rename(columns = {'nove_zony': 'parkovaci_zony'})"
   ]
  },
  {
   "cell_type": "code",
   "execution_count": 12,
   "metadata": {
    "scrolled": true
   },
   "outputs": [],
   "source": [
    "vysledek.to_csv('output/vybrano.csv', index = False)"
   ]
  }
 ],
 "metadata": {
  "kernelspec": {
   "display_name": "Python 3",
   "language": "python",
   "name": "python3"
  },
  "language_info": {
   "codemirror_mode": {
    "name": "ipython",
    "version": 3
   },
   "file_extension": ".py",
   "mimetype": "text/x-python",
   "name": "python",
   "nbconvert_exporter": "python",
   "pygments_lexer": "ipython3",
   "version": "3.8.5"
  }
 },
 "nbformat": 4,
 "nbformat_minor": 4
}
